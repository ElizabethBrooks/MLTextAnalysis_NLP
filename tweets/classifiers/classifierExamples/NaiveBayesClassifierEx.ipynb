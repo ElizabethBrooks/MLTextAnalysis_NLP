{
 "cells": [
  {
   "cell_type": "markdown",
   "metadata": {},
   "source": [
    "## Naive Bayes Classification ##\n",
    "\n",
    "Gender identification of names example.\n",
    "\n",
    "Male and female names have distinct characteristics (features) that may be used to classify a given name as male or female. Those names ending in a, e, and i are usually female names. While names ending in k, o, r, s, and t are typically male names.\n",
    "\n",
    "The following program will classify a name as male or female based on the above features. First, names from nltk.corpus will be imported to build a list of examples with corresponding class labels. The class label is the gender associated with the name."
   ]
  },
  {
   "cell_type": "code",
   "execution_count": null,
   "metadata": {
    "collapsed": true
   },
   "outputs": [],
   "source": [
    "# Author: Elizabeth Brooks\n",
    "# Date Modified: 06/29/2015\n",
    "\n",
    "# PreProcessor Directives\n",
    "import random\n",
    "from nltk.classify import apply_features\n",
    "from nltk.corpus import names\n",
    "labeledNames = ([(name, 'male') for name in names.words('male.txt')] +\n",
    "    [(name, 'female') for name in names.words('female.txt')])\n",
    "    \n",
    "# Randomize the data\n",
    "random.shuffle(labeledNames)"
   ]
  },
  {
   "cell_type": "markdown",
   "metadata": {},
   "source": [
    "Next, a feature extractor will be used to build a dictionary of relevant information (feature, name)."
   ]
  },
  {
   "cell_type": "code",
   "execution_count": null,
   "metadata": {
    "collapsed": true
   },
   "outputs": [],
   "source": [
    "# Function for extracting relevant features\n",
    "def extractFeatures(wordInput):\n",
    "    return {'lastLetter': wordInput[-1]}"
   ]
  },
  {
   "cell_type": "markdown",
   "metadata": {},
   "source": [
    "Use the feature extractor to process the data in names, and to divide the resulting list of feature sets into a training set and a dev set. Then train the classifier for Naive Bayes classification using the determined training set (trainSet)."
   ]
  },
  {
   "cell_type": "code",
   "execution_count": null,
   "metadata": {
    "collapsed": true
   },
   "outputs": [],
   "source": [
    "# Determine the feature sets\n",
    "featureSets = [(extractFeatures(n), gender) for (n, gender) in labeledNames]\n",
    "\n",
    "# Establish the training and dev data sets\n",
    "trainSet, devSet = featureSets[500:], featuresSets[:500] #before and after 500\n",
    "\n",
    "# Train the Naive Bayes (NB) classifier\n",
    "classifierNB = nltk.NaiveBayesClassifier.train(trainSet)"
   ]
  },
  {
   "cell_type": "markdown",
   "metadata": {},
   "source": [
    "Note: in order to reduce memory requirements, the function nltk.classify.apply_features may be used to construct a single list containing all the features of every instance. The function returns an object that behaves like a list, however it does not store all the feature sets in memory. See example function calls below."
   ]
  },
  {
   "cell_type": "code",
   "execution_count": null,
   "metadata": {
    "collapsed": true
   },
   "outputs": [],
   "source": [
    "# Establish the training set\n",
    "trainSet = apply_features(extractFeatures, labeled_names[500:])\n",
    "\n",
    "# Establish the dev set\n",
    "devSet = apply_features(extractFeatures, labeledNames[:500])"
   ]
  },
  {
   "cell_type": "markdown",
   "metadata": {},
   "source": [
    "It is possible to display the accuracy of the trained classifier, using the above determined dev set (devSet), by simply using the below function call."
   ]
  },
  {
   "cell_type": "code",
   "execution_count": null,
   "metadata": {
    "collapsed": true
   },
   "outputs": [],
   "source": [
    "# Print the screen the probable accuracy of the NB classifier\n",
    "print(nltk.classify.accuracy(classifierNB, devSet))"
   ]
  },
  {
   "cell_type": "markdown",
   "metadata": {},
   "source": [
    "It is also possible to display the features most effective for distinguishing a name's class, or gender."
   ]
  },
  {
   "cell_type": "code",
   "execution_count": null,
   "metadata": {
    "collapsed": true
   },
   "outputs": [],
   "source": [
    "# Print the top 5 features with the best class \n",
    "# identification probability\n",
    "classifierNB.show_most_informative_features(5)"
   ]
  },
  {
   "cell_type": "markdown",
   "metadata": {},
   "source": [
    "Finally, either create a test data set or input namess not found in the training/dev data sets."
   ]
  },
  {
   "cell_type": "code",
   "execution_count": null,
   "metadata": {
    "collapsed": true
   },
   "outputs": [],
   "source": [
    "# Test using sample names\n",
    "classifierNB.classify(extractFeatures('Neo'))\n",
    "classifierNB.classify(extractFeatures('Trinity'))"
   ]
  }
 ],
 "metadata": {
  "kernelspec": {
   "display_name": "Python 2",
   "language": "python",
   "name": "python2"
  }
 },
 "nbformat": 4,
 "nbformat_minor": 0
}
