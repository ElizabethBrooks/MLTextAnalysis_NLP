{
 "cells": [
  {
   "cell_type": "markdown",
   "metadata": {},
   "source": [
    "## Relevant Tweet Word Cloud ##\n",
    "\n",
    "A program for generating tweet based word clouds referencing the Boston Marathon bombing of 2013 using a pre processed text file of relevantly labeled tweets."
   ]
  },
  {
   "cell_type": "code",
   "execution_count": 1,
   "metadata": {
    "collapsed": true
   },
   "outputs": [],
   "source": [
    "# Author: Elizabeth Brooks\n",
    "# Date Modified: 07/08/2015\n",
    "\n",
    "# PreProcessor Directives\n",
    "%matplotlib inline\n",
    "import matplotlib\n",
    "import csv\n",
    "import matplotlib.pyplot as plt\n",
    "from wordcloud import WordCloud\n",
    "from scipy.misc import imread\n",
    "import re\n",
    "import os\n",
    "import sys\n",
    "sys.path.append(os.path.realpath('../'))\n",
    "\n",
    "# Function for generating a word cloud of tweet term fequencies\n",
    "def tweetWordCloud(file_path, mask_path, bg_color='black', num_words=150,\n",
    "                   input_font_path, out_path='relevancyCloud.png'):\n",
    "    # Read in the txt file set by the main method\n",
    "    text = open(file_path, 'r').read()\n",
    "    # Generate the word cloud based on the input arguments\n",
    "    wc = None\n",
    "    if mask_path:\n",
    "        # Use module to read the image file\n",
    "        inputMask = imread(mask_path)\n",
    "        wc = WordCloud(mask=inputMask, background_color=bg_color, max_words=num_words, \n",
    "                       font_path=input_font_path).generate(text)\n",
    "    else:\n",
    "        wc = WordCloud(font_path=fontpath, max_words=num_words,\n",
    "                       background_color=bg_color).generate(text)\n",
    "    # Open a plot of the generated word cloud\n",
    "    wc.to_file(out_path)\n",
    "    plt.imshow(wc)\n",
    "    plt.axis(\"off\")\n",
    "    plt.show()\n",
    "# End tweetWordCloud\n",
    "## We can eventually move this to its own module\n"
   ]
  },
  {
   "cell_type": "markdown",
   "metadata": {},
   "source": [
    "The above function generates a word cloud based on words in the txt file created in the main method.\n",
    "For more info see: https://github.com/amueller/word_cloud"
   ]
  },
  {
   "cell_type": "code",
   "execution_count": null,
   "metadata": {
    "collapsed": false,
    "scrolled": false
   },
   "outputs": [],
   "source": [
    "# The main method\n",
    "def main():\n",
    "    # Set the output image file path\n",
    "    current_dir = os.getcwd()\n",
    "    # File of tweets to create a word cloud of\n",
    "    # Tweets relevant to the Boston marathon bombing\n",
    "    txtFilePath = current_dir + 'relevantTraining.txt'\n",
    "\n",
    "    # Also, request the OS specific font path for the generated word cloud\n",
    "    # Mac and Windows font paths suggested\n",
    "    fontPathInput = raw_input(\"Enter font file path...\\nMac -- /Library/Fonts/Microsoft Sans Serif.ttf\\nWindows -- sans_serif.ttf\\n\")\n",
    "    # Also, request the file path to a mask for the word cloud\n",
    "    maskPathInput = raw_input(\"Enter mask file name...\\nEx: 'mass_map.png'\")\n",
    "\n",
    "    # Use the defined function to create the tweet word cloud\n",
    "    # in the shape of Massachusets\n",
    "    tweetWordCloud(file_path=txtFilePath, mask_path=current_dir + maskPathInput, input_font_path=fontPathInput)\n",
    "# End main\n",
    "\n",
    "# Run the script via the main method\n",
    "if __name__ == \"__main__\":\n",
    "    main()\n",
    "    \n",
    "# End script"
   ]
  },
  {
   "cell_type": "markdown",
   "metadata": {},
   "source": [
    "The main() method of the above program requests user input of a font path (specific to the users OS) as well as a mask path image to be used to shape the output word cloud of relevant tweets."
   ]
  }
 ],
 "metadata": {
  "kernelspec": {
   "display_name": "Python 2",
   "language": "python",
   "name": "python2"
  },
  "language_info": {
   "codemirror_mode": {
    "name": "ipython",
    "version": 2
   },
   "file_extension": ".py",
   "mimetype": "text/x-python",
   "name": "python",
   "nbconvert_exporter": "python",
   "pygments_lexer": "ipython2",
   "version": "2.7.9"
  }
 },
 "nbformat": 4,
 "nbformat_minor": 0
}
